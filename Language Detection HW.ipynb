{
 "cells": [
  {
   "cell_type": "code",
   "execution_count": 1,
   "id": "b275a9af",
   "metadata": {},
   "outputs": [
    {
     "name": "stdout",
     "output_type": "stream",
     "text": [
      "Text        0\n",
      "Language    0\n",
      "dtype: int64\n"
     ]
    }
   ],
   "source": [
    "import pandas as pd\n",
    "\n",
    "df = pd.read_csv(\"Language Detection.csv\")\n",
    "print(df.isnull().sum()) #none\n"
   ]
  },
  {
   "cell_type": "code",
   "execution_count": 2,
   "id": "c25033e2",
   "metadata": {},
   "outputs": [],
   "source": [
    "from sklearn.model_selection import train_test_split\n",
    "X_train,X_test,y_train,y_test = train_test_split(df[\"Text\"],df[\"Language\"],train_size=0.8,random_state=8)"
   ]
  },
  {
   "cell_type": "code",
   "execution_count": 3,
   "id": "760151f5",
   "metadata": {},
   "outputs": [],
   "source": [
    "import nltk\n",
    "from nltk.stem import WordNetLemmatizer\n",
    "import re\n",
    "\n",
    "lemmatizer = WordNetLemmatizer()\n",
    "def text_transform(data):\n",
    "    corpus = []\n",
    "    for sentence in data:\n",
    "        item = re.sub('[^a-zA-Z]',\" \",sentence)\n",
    "        item = item.lower()\n",
    "        corpus.append(item)\n",
    "        #item = item.split(\" \")\n",
    "        lema = []\n",
    "        #for word in item:\n",
    "            #lema.append(lemmatizer.lemmatize(word))\n",
    "        #corpus.append(\" \".join(lema))\n",
    "    return corpus\n",
    "\n",
    "trans_train = text_transform(X_train)"
   ]
  },
  {
   "cell_type": "code",
   "execution_count": 4,
   "id": "e753edb2",
   "metadata": {},
   "outputs": [],
   "source": [
    "from sklearn.feature_extraction.text import CountVectorizer\n",
    "vectorizer = CountVectorizer(ngram_range=(1,2))\n",
    "features = vectorizer.fit_transform(trans_train)\n",
    "trans_test = text_transform(X_test)\n",
    "X_test = vectorizer.transform(trans_test)"
   ]
  },
  {
   "cell_type": "code",
   "execution_count": 5,
   "id": "c56faaeb",
   "metadata": {},
   "outputs": [],
   "source": [
    "from sklearn.ensemble import RandomForestClassifier\n",
    "rf_classifier = RandomForestClassifier()\n",
    "rf_classifier.fit(features,y_train)\n",
    "predictions = rf_classifier.predict(X_test)"
   ]
  },
  {
   "cell_type": "code",
   "execution_count": 6,
   "id": "62d85535",
   "metadata": {},
   "outputs": [
    {
     "name": "stdout",
     "output_type": "stream",
     "text": [
      "              precision    recall  f1-score   support\n",
      "\n",
      "      Arabic       0.33      0.01      0.02       109\n",
      "      Danish       0.92      0.88      0.90        83\n",
      "       Dutch       0.98      0.94      0.96       127\n",
      "     English       0.96      0.98      0.97       287\n",
      "      French       0.99      0.95      0.97       213\n",
      "      German       1.00      0.96      0.98        90\n",
      "       Greek       0.12      0.01      0.03        70\n",
      "       Hindi       0.00      0.00      0.00        15\n",
      "     Italian       0.94      0.98      0.96       123\n",
      "     Kannada       0.67      0.03      0.05        71\n",
      "   Malayalam       0.17      0.98      0.29       105\n",
      "  Portugeese       0.97      0.93      0.95       161\n",
      "     Russian       0.46      0.07      0.13       148\n",
      "     Spanish       0.94      0.94      0.94       158\n",
      "    Sweedish       0.95      0.92      0.93       132\n",
      "       Tamil       0.25      0.01      0.02        88\n",
      "     Turkish       0.97      0.81      0.88        88\n",
      "\n",
      "    accuracy                           0.72      2068\n",
      "   macro avg       0.68      0.61      0.59      2068\n",
      "weighted avg       0.78      0.72      0.70      2068\n",
      "\n"
     ]
    },
    {
     "name": "stderr",
     "output_type": "stream",
     "text": [
      "C:\\Users\\aaron\\AppData\\Local\\Packages\\PythonSoftwareFoundation.Python.3.12_qbz5n2kfra8p0\\LocalCache\\local-packages\\Python312\\site-packages\\sklearn\\metrics\\_classification.py:1531: UndefinedMetricWarning: Precision is ill-defined and being set to 0.0 in labels with no predicted samples. Use `zero_division` parameter to control this behavior.\n",
      "  _warn_prf(average, modifier, f\"{metric.capitalize()} is\", len(result))\n",
      "C:\\Users\\aaron\\AppData\\Local\\Packages\\PythonSoftwareFoundation.Python.3.12_qbz5n2kfra8p0\\LocalCache\\local-packages\\Python312\\site-packages\\sklearn\\metrics\\_classification.py:1531: UndefinedMetricWarning: Precision is ill-defined and being set to 0.0 in labels with no predicted samples. Use `zero_division` parameter to control this behavior.\n",
      "  _warn_prf(average, modifier, f\"{metric.capitalize()} is\", len(result))\n",
      "C:\\Users\\aaron\\AppData\\Local\\Packages\\PythonSoftwareFoundation.Python.3.12_qbz5n2kfra8p0\\LocalCache\\local-packages\\Python312\\site-packages\\sklearn\\metrics\\_classification.py:1531: UndefinedMetricWarning: Precision is ill-defined and being set to 0.0 in labels with no predicted samples. Use `zero_division` parameter to control this behavior.\n",
      "  _warn_prf(average, modifier, f\"{metric.capitalize()} is\", len(result))\n"
     ]
    }
   ],
   "source": [
    "from sklearn.metrics import classification_report\n",
    "err = classification_report(y_test,predictions)\n",
    "print(err)"
   ]
  },
  {
   "cell_type": "code",
   "execution_count": 9,
   "id": "5f089591",
   "metadata": {},
   "outputs": [
    {
     "name": "stdout",
     "output_type": "stream",
     "text": [
      "['Dutch']\n"
     ]
    }
   ],
   "source": [
    "def Analyser(txt):\n",
    "    txt_trans = text_transform(txt)\n",
    "    txt_num = vectorizer.transform(txt_trans)\n",
    "    pred =  rf_classifier.predict(txt_num)\n",
    "    print(pred)\n",
    "   \n",
    "\n",
    "inpt = input(\"Enter a string to tell which language it is!\")\n",
    "Analyser([inpt])"
   ]
  }
 ],
 "metadata": {
  "kernelspec": {
   "display_name": "Python 3",
   "language": "python",
   "name": "python3"
  },
  "language_info": {
   "codemirror_mode": {
    "name": "ipython",
    "version": 3
   },
   "file_extension": ".py",
   "mimetype": "text/x-python",
   "name": "python",
   "nbconvert_exporter": "python",
   "pygments_lexer": "ipython3",
   "version": "3.12.10"
  }
 },
 "nbformat": 4,
 "nbformat_minor": 5
}
